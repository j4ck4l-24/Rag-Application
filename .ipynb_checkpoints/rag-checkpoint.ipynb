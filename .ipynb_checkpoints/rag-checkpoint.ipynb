{
 "cells": [
  {
   "cell_type": "code",
   "execution_count": null,
   "id": "35773c7e-714c-4b1e-ab01-b26afa2e09bb",
   "metadata": {},
   "outputs": [],
   "source": [
    "pip install chromadb"
   ]
  },
  {
   "cell_type": "code",
   "execution_count": null,
   "id": "4f358052-38e4-4dac-824d-a90fb5d3ef0e",
   "metadata": {},
   "outputs": [],
   "source": [
    "from langchain.document_loaders import DirectoryLoader\n",
    "from langchain_text_splitters import RecursiveCharacterTextSplitter\n",
    "from langchain_openai import OpenAIEmbeddings,ChatOpenAI\n",
    "from langchain_community.vectorstores import Chroma\n",
    "from langchain_core.prompts import ChatPromptTemplate\n",
    "import warnings\n",
    "import sqlite3 , faiss , json\n",
    "import numpy as np\n",
    "import os , shutil"
   ]
  },
  {
   "cell_type": "code",
   "execution_count": null,
   "id": "515f7843-7c12-4da1-880d-6dd5272ef3d9",
   "metadata": {},
   "outputs": [],
   "source": [
    "warnings.filterwarnings('ignore')"
   ]
  },
  {
   "cell_type": "code",
   "execution_count": null,
   "id": "3de61871-49f0-4d47-a60a-b96ae1bb951d",
   "metadata": {},
   "outputs": [],
   "source": [
    "path = \"data/books\"\n",
    "DB_PATH = \"data/chroma\"\n",
    "embeddings_model = OpenAIEmbeddings()"
   ]
  },
  {
   "cell_type": "code",
   "execution_count": null,
   "id": "0c35f3b2-1829-488a-9cdc-36f8fcc91bd8",
   "metadata": {},
   "outputs": [],
   "source": [
    "def load_docs():\n",
    "    loader = DirectoryLoader(path,glob=\"*.md\")\n",
    "    document = loader.load()\n",
    "    return document"
   ]
  },
  {
   "cell_type": "code",
   "execution_count": null,
   "id": "3480a9fb-f7c0-4258-862d-3305d33e14c7",
   "metadata": {},
   "outputs": [],
   "source": [
    "def split_in_chunks(document):\n",
    "    text_splitter = RecursiveCharacterTextSplitter(\n",
    "        chunk_size=300,\n",
    "        chunk_overlap=100,\n",
    "        length_function=len,\n",
    "        add_start_index=True,\n",
    "    )\n",
    "    chunks = text_splitter.split_documents(document)\n",
    "    print(f\"splitting done with {len(chunks)} chunks\")\n",
    "    return chunks"
   ]
  },
  {
   "cell_type": "code",
   "execution_count": null,
   "id": "09e5141a-2dbe-4206-b473-c4dc6006986e",
   "metadata": {},
   "outputs": [],
   "source": [
    "def store_chunks(chunks):\n",
    "    if os.path.exists(DB_PATH):\n",
    "        shutil.rmtree(DB_PATH)\n",
    "    db = Chroma.from_documents(chunks, embeddings_model, persist_directory = DB_PATH)\n",
    "    db.persist()\n",
    "    print('databse created')"
   ]
  },
  {
   "cell_type": "code",
   "execution_count": null,
   "id": "b84db902-9f91-4344-8139-915c387ae784",
   "metadata": {},
   "outputs": [],
   "source": [
    "def load_chunks(query):\n",
    "    db = Chroma(persist_directory = DB_PATH, embedding_function = embeddings_model)\n",
    "    results = db.similarity_search_with_relevance_scores(query , k=3)\n",
    "    if len(results) == 0 or results[0][1] < 0.7:\n",
    "        print(\"no matching results\")\n",
    "        return \n",
    "    context_text = '\\n\\n---\\n\\n'.join([doc.page_content for doc , _score in results])\n",
    "    return context_text"
   ]
  },
  {
   "cell_type": "code",
   "execution_count": null,
   "id": "72ab5c7a-1747-4998-a584-f9bbc7e9df97",
   "metadata": {},
   "outputs": [],
   "source": [
    "document = load_docs()\n",
    "chunks = split_in_chunks(document)\n",
    "store_chunks(chunks)"
   ]
  },
  {
   "cell_type": "code",
   "execution_count": null,
   "id": "71a778df-d61d-4fac-80f4-b9735aa03d89",
   "metadata": {},
   "outputs": [],
   "source": [
    "PROMPT_TEMPLATE = \"\"\"\n",
    "Answer the query based on the following context:\n",
    "{context}\n",
    "\n",
    "---\n",
    "\n",
    "Answer the query based on the above context: {query}\n",
    "Don't include the mention of context in the response\n",
    "\"\"\"\n",
    "query = \"alice?\""
   ]
  },
  {
   "cell_type": "code",
   "execution_count": null,
   "id": "ca964502-fbc2-444f-b530-81bd4b908504",
   "metadata": {},
   "outputs": [],
   "source": [
    "context = load_chunks(query)\n",
    "prompt_template = ChatPromptTemplate.from_template(PROMPT_TEMPLATE)\n",
    "prompt = prompt_template.format(context = context, query = query)"
   ]
  },
  {
   "cell_type": "code",
   "execution_count": null,
   "id": "72008f1b-1363-4da0-9b49-f228ee1a0121",
   "metadata": {},
   "outputs": [],
   "source": [
    "model = ChatOpenAI()\n",
    "response_text = model.predict(prompt)"
   ]
  },
  {
   "cell_type": "code",
   "execution_count": null,
   "id": "129388a6-4a1d-4b74-a4c4-5875cac1d6de",
   "metadata": {},
   "outputs": [],
   "source": [
    "response_text"
   ]
  },
  {
   "cell_type": "code",
   "execution_count": null,
   "id": "ed9a947d-5914-41d4-8e9e-8d361f1d07a5",
   "metadata": {},
   "outputs": [],
   "source": []
  }
 ],
 "metadata": {
  "kernelspec": {
   "display_name": "Python 3 (ipykernel)",
   "language": "python",
   "name": "python3"
  },
  "language_info": {
   "codemirror_mode": {
    "name": "ipython",
    "version": 3
   },
   "file_extension": ".py",
   "mimetype": "text/x-python",
   "name": "python",
   "nbconvert_exporter": "python",
   "pygments_lexer": "ipython3",
   "version": "3.10.12"
  }
 },
 "nbformat": 4,
 "nbformat_minor": 5
}
